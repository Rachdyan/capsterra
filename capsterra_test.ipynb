{
 "cells": [
  {
   "cell_type": "code",
   "execution_count": 8,
   "id": "535e7177",
   "metadata": {},
   "outputs": [],
   "source": [
    "import cloudscraper\n",
    "from bs4 import BeautifulSoup\n",
    "import pandas as pd\n",
    "from datetime import datetime\n",
    "import re\n",
    "import time\n",
    "import requests\n",
    "import random\n",
    "import json\n",
    "import concurrent.futures\n",
    "import threading\n",
    "from concurrent.futures import ThreadPoolExecutor, as_completed\n",
    "from seleniumbase import SB\n",
    "import asyncio\n",
    "import nest_asyncio\n",
    "\n",
    "nest_asyncio.apply()\n",
    "\n",
    "HEADERS = {\n",
    "    'accept': '*/*',\n",
    "    'accept-language': 'en-US,en;q=0.9',\n",
    "    'priority': 'u=1, i',\n",
    "    'referer': \"https://www.capterra.com/categories/\",\n",
    "    'sec-ch-ua': '\"Not;A=Brand\";v=\"99\", \"Google Chrome\";v=\"139\", \"Chromium\";v=\"139\"',\n",
    "    'sec-ch-ua-mobile': '?0',\n",
    "    'sec-ch-ua-platform': '\"macOS\"',\n",
    "    'sec-fetch-dest': 'empty',\n",
    "    'sec-fetch-mode': 'cors',\n",
    "    'sec-fetch-site': 'same-origin',\n",
    "    'user-agent': 'Mozilla/5.0 (Macintosh; Intel Mac OS X 10_15_7) AppleWebKit/537.36 (KHTML, like Gecko) Chrome/139.0.0.0 Safari/537.36',\n",
    "}\n"
   ]
  },
  {
   "cell_type": "code",
   "execution_count": 2,
   "id": "9397fa5f",
   "metadata": {},
   "outputs": [],
   "source": [
    "def get_with_retries(scraper, url, headers, retries=2, delay=5):\n",
    "    \"\"\"Attempts to fetch a URL with a specified number of retries upon failure.\"\"\"\n",
    "    for attempt in range(retries + 1):\n",
    "        try:\n",
    "            response = scraper.get(url=url, headers=headers)\n",
    "            response.raise_for_status()  # Will raise an HTTPError for bad responses (4xx or 5xx)\n",
    "            return response\n",
    "        except (requests.exceptions.RequestException, cloudscraper.exceptions.CloudflareException) as e:\n",
    "            print(f\"Request to {url} failed on attempt {attempt + 1}: {e}\")\n",
    "            if attempt < retries:\n",
    "                print(f\"Retrying in {delay} seconds...\")\n",
    "                time.sleep(delay)\n",
    "            else:\n",
    "                print(f\"All retries failed for {url}.\")\n",
    "                raise  # Re-raise the last exception if all retries fail"
   ]
  },
  {
   "cell_type": "code",
   "execution_count": 9,
   "id": "c2c065ed",
   "metadata": {},
   "outputs": [
    {
     "name": "stderr",
     "output_type": "stream",
     "text": [
      "Exception ignored in: <generator object SB at 0x136fc6a10>\n",
      "Traceback (most recent call last):\n",
      "  File \"/opt/anaconda3/lib/python3.11/site-packages/seleniumbase/plugins/sb_manager.py\", line 1321, in SB\n",
      "    sb.tearDown()\n",
      "  File \"/opt/anaconda3/lib/python3.11/site-packages/seleniumbase/fixtures/base_case.py\", line 16483, in tearDown\n",
      "    page_actions._reconnect_if_disconnected(self.driver)\n",
      "  File \"/opt/anaconda3/lib/python3.11/site-packages/seleniumbase/fixtures/page_actions.py\", line 1567, in _reconnect_if_disconnected\n",
      "    driver.connect()\n",
      "  File \"/opt/anaconda3/lib/python3.11/site-packages/seleniumbase/undetected/__init__.py\", line 521, in connect\n",
      "    self.start_session()\n",
      "  File \"/opt/anaconda3/lib/python3.11/site-packages/seleniumbase/undetected/__init__.py\", line 551, in start_session\n",
      "    super().start_session(capabilities)\n",
      "  File \"/opt/anaconda3/lib/python3.11/site-packages/selenium/webdriver/remote/webdriver.py\", line 356, in start_session\n",
      "    response = self.execute(Command.NEW_SESSION, caps)[\"value\"]\n",
      "               ^^^^^^^^^^^^^^^^^^^^^^^^^^^^^^^^^^^^^^^\n",
      "  File \"/opt/anaconda3/lib/python3.11/site-packages/selenium/webdriver/remote/webdriver.py\", line 445, in execute\n",
      "    response = self.command_executor.execute(driver_command, params)\n",
      "               ^^^^^^^^^^^^^^^^^^^^^^^^^^^^^^^^^^^^^^^^^^^^^^^^^^^^^\n",
      "  File \"/opt/anaconda3/lib/python3.11/site-packages/selenium/webdriver/remote/remote_connection.py\", line 404, in execute\n",
      "    return self._request(command_info[0], url, body=data)\n",
      "           ^^^^^^^^^^^^^^^^^^^^^^^^^^^^^^^^^^^^^^^^^^^^^^\n",
      "  File \"/opt/anaconda3/lib/python3.11/site-packages/selenium/webdriver/remote/remote_connection.py\", line 428, in _request\n",
      "    response = self._conn.request(method, url, body=body, headers=headers, timeout=self._client_config.timeout)\n",
      "               ^^^^^^^^^^^^^^^^^^^^^^^^^^^^^^^^^^^^^^^^^^^^^^^^^^^^^^^^^^^^^^^^^^^^^^^^^^^^^^^^^^^^^^^^^^^^^^^^\n",
      "  File \"/opt/anaconda3/lib/python3.11/site-packages/urllib3/_request_methods.py\", line 143, in request\n",
      "    return self.request_encode_body(\n",
      "           ^^^^^^^^^^^^^^^^^^^^^^^^^\n",
      "  File \"/opt/anaconda3/lib/python3.11/site-packages/urllib3/_request_methods.py\", line 278, in request_encode_body\n",
      "    return self.urlopen(method, url, **extra_kw)\n",
      "           ^^^^^^^^^^^^^^^^^^^^^^^^^^^^^^^^^^^^^\n",
      "  File \"/opt/anaconda3/lib/python3.11/site-packages/urllib3/poolmanager.py\", line 443, in urlopen\n",
      "    response = conn.urlopen(method, u.request_uri, **kw)\n",
      "               ^^^^^^^^^^^^^^^^^^^^^^^^^^^^^^^^^^^^^^^^^\n",
      "  File \"/opt/anaconda3/lib/python3.11/site-packages/urllib3/connectionpool.py\", line 787, in urlopen\n",
      "    response = self._make_request(\n",
      "               ^^^^^^^^^^^^^^^^^^^\n",
      "  File \"/opt/anaconda3/lib/python3.11/site-packages/urllib3/connectionpool.py\", line 534, in _make_request\n",
      "    response = conn.getresponse()\n",
      "               ^^^^^^^^^^^^^^^^^^\n",
      "  File \"/opt/anaconda3/lib/python3.11/site-packages/urllib3/connection.py\", line 516, in getresponse\n",
      "    httplib_response = super().getresponse()\n",
      "                       ^^^^^^^^^^^^^^^^^^^^^\n",
      "  File \"/opt/anaconda3/lib/python3.11/http/client.py\", line 1386, in getresponse\n",
      "    response.begin()\n",
      "  File \"/opt/anaconda3/lib/python3.11/http/client.py\", line 325, in begin\n",
      "    version, status, reason = self._read_status()\n",
      "                              ^^^^^^^^^^^^^^^^^^^\n",
      "  File \"/opt/anaconda3/lib/python3.11/http/client.py\", line 286, in _read_status\n",
      "    line = str(self.fp.readline(_MAXLINE + 1), \"iso-8859-1\")\n",
      "               ^^^^^^^^^^^^^^^^^^^^^^^^^^^^^^\n",
      "  File \"/opt/anaconda3/lib/python3.11/socket.py\", line 706, in readinto\n",
      "    return self._sock.recv_into(b)\n",
      "           ^^^^^^^^^^^^^^^^^^^^^^^\n",
      "KeyboardInterrupt: \n"
     ]
    }
   ],
   "source": [
    "\n",
    "\n",
    "sb_context_manager = SB(uc=False, headless=False, maximize=True,\n",
    "                        #cap_string=cap_string\n",
    "                        )\n",
    "\n",
    "sb = sb_context_manager.__enter__()\n"
   ]
  },
  {
   "cell_type": "code",
   "execution_count": 10,
   "id": "39010905",
   "metadata": {},
   "outputs": [],
   "source": [
    "url = \"https://www.capterra.com/categories/\"\n",
    "sb.activate_cdp_mode(url)\n",
    "\n",
    "sb.sleep(4)\n"
   ]
  },
  {
   "cell_type": "code",
   "execution_count": 11,
   "id": "916bd2d4",
   "metadata": {},
   "outputs": [],
   "source": [
    "html = sb.get_page_source()\n",
    "soup = BeautifulSoup(html, 'html.parser')"
   ]
  },
  {
   "cell_type": "code",
   "execution_count": 18,
   "id": "3c272049",
   "metadata": {},
   "outputs": [],
   "source": [
    "\n",
    "list_raw = soup.select_one(\"div[data-testid*='alphabetical-list']\")\n",
    "list_all = list_raw.select(\"li[data-testid*='group-list-item']\")"
   ]
  },
  {
   "cell_type": "code",
   "execution_count": 23,
   "id": "ca71e1e1",
   "metadata": {},
   "outputs": [],
   "source": []
  },
  {
   "cell_type": "code",
   "execution_count": null,
   "id": "d2df01f6",
   "metadata": {},
   "outputs": [],
   "source": []
  },
  {
   "cell_type": "code",
   "execution_count": 36,
   "id": "9a8b056f",
   "metadata": {},
   "outputs": [],
   "source": [
    "categories_data = []\n",
    "for list_item in list_all:\n",
    "    category_name = list_item.select_one(\"a\").get_text(strip=True)  \n",
    "    category_link = list_item.select_one(\"a\").get(\"href\")\n",
    "    category_link = \"https://www.capterra.com\" + category_link\n",
    "    cloud_link = category_link + \"?deployment=CLOUD_SAAS_WEB_BASED\"\n",
    "    categories_data.append({\n",
    "        'category_name': category_name,\n",
    "        'category_link': category_link,\n",
    "        'cloud_link': cloud_link\n",
    "    })\n",
    "\n",
    "all_categories_df = pd.DataFrame(categories_data)"
   ]
  },
  {
   "cell_type": "code",
   "execution_count": 37,
   "id": "b3be196f",
   "metadata": {},
   "outputs": [
    {
     "data": {
      "application/vnd.microsoft.datawrangler.viewer.v0+json": {
       "columns": [
        {
         "name": "index",
         "rawType": "int64",
         "type": "integer"
        },
        {
         "name": "category_name",
         "rawType": "object",
         "type": "string"
        },
        {
         "name": "category_link",
         "rawType": "object",
         "type": "string"
        },
        {
         "name": "cloud_link",
         "rawType": "object",
         "type": "string"
        }
       ],
       "ref": "a15eb470-ea97-4d6f-87be-4798542438bd",
       "rows": [
        [
         "0",
         "360 Degree Feedback",
         "https://www.capterra.com/360-degree-feedback-software/",
         "https://www.capterra.com/360-degree-feedback-software/?deployment=CLOUD_SAAS_WEB_BASED"
        ],
        [
         "1",
         "3D Architecture",
         "https://www.capterra.com/3d-architecture-software/",
         "https://www.capterra.com/3d-architecture-software/?deployment=CLOUD_SAAS_WEB_BASED"
        ],
        [
         "2",
         "3D CAD",
         "https://www.capterra.com/3d-cad-software/",
         "https://www.capterra.com/3d-cad-software/?deployment=CLOUD_SAAS_WEB_BASED"
        ],
        [
         "3",
         "3D Rendering",
         "https://www.capterra.com/3d-rendering-software/",
         "https://www.capterra.com/3d-rendering-software/?deployment=CLOUD_SAAS_WEB_BASED"
        ],
        [
         "4",
         "AB Testing",
         "https://www.capterra.com/ab-testing-software/",
         "https://www.capterra.com/ab-testing-software/?deployment=CLOUD_SAAS_WEB_BASED"
        ],
        [
         "5",
         "Absence Management",
         "https://www.capterra.com/absence-management-software/",
         "https://www.capterra.com/absence-management-software/?deployment=CLOUD_SAAS_WEB_BASED"
        ],
        [
         "6",
         "Access Governance",
         "https://www.capterra.com/access-governance-software/",
         "https://www.capterra.com/access-governance-software/?deployment=CLOUD_SAAS_WEB_BASED"
        ],
        [
         "7",
         "Account Based Marketing",
         "https://www.capterra.com/account-based-marketing-software/",
         "https://www.capterra.com/account-based-marketing-software/?deployment=CLOUD_SAAS_WEB_BASED"
        ],
        [
         "8",
         "Accounting",
         "https://www.capterra.com/accounting-software/",
         "https://www.capterra.com/accounting-software/?deployment=CLOUD_SAAS_WEB_BASED"
        ],
        [
         "9",
         "Accounting Practice Management",
         "https://www.capterra.com/accounting-practice-management-software/",
         "https://www.capterra.com/accounting-practice-management-software/?deployment=CLOUD_SAAS_WEB_BASED"
        ],
        [
         "10",
         "Accounts Payable",
         "https://www.capterra.com/accounts-payable-software/",
         "https://www.capterra.com/accounts-payable-software/?deployment=CLOUD_SAAS_WEB_BASED"
        ],
        [
         "11",
         "Accounts Receivable",
         "https://www.capterra.com/accounts-receivable-software/",
         "https://www.capterra.com/accounts-receivable-software/?deployment=CLOUD_SAAS_WEB_BASED"
        ],
        [
         "12",
         "Accreditation Management",
         "https://www.capterra.com/accreditation-management-software/",
         "https://www.capterra.com/accreditation-management-software/?deployment=CLOUD_SAAS_WEB_BASED"
        ],
        [
         "13",
         "Ad Server",
         "https://www.capterra.com/ad-server-software/",
         "https://www.capterra.com/ad-server-software/?deployment=CLOUD_SAAS_WEB_BASED"
        ],
        [
         "14",
         "Address Verification",
         "https://www.capterra.com/address-verification-software/",
         "https://www.capterra.com/address-verification-software/?deployment=CLOUD_SAAS_WEB_BASED"
        ],
        [
         "15",
         "Admissions",
         "https://www.capterra.com/admissions-software/",
         "https://www.capterra.com/admissions-software/?deployment=CLOUD_SAAS_WEB_BASED"
        ],
        [
         "16",
         "Advanced Planning and Scheduling (APS)",
         "https://www.capterra.com/aps-software/",
         "https://www.capterra.com/aps-software/?deployment=CLOUD_SAAS_WEB_BASED"
        ],
        [
         "17",
         "Advertising Agency",
         "https://www.capterra.com/advertising-agency-software/",
         "https://www.capterra.com/advertising-agency-software/?deployment=CLOUD_SAAS_WEB_BASED"
        ],
        [
         "18",
         "Advocacy",
         "https://www.capterra.com/advocacy-software/",
         "https://www.capterra.com/advocacy-software/?deployment=CLOUD_SAAS_WEB_BASED"
        ],
        [
         "19",
         "Aerospace Manufacturing",
         "https://www.capterra.com/aerospace-manufacturing-software/",
         "https://www.capterra.com/aerospace-manufacturing-software/?deployment=CLOUD_SAAS_WEB_BASED"
        ],
        [
         "20",
         "Affiliate",
         "https://www.capterra.com/affiliate-software/",
         "https://www.capterra.com/affiliate-software/?deployment=CLOUD_SAAS_WEB_BASED"
        ],
        [
         "21",
         "Agile Project Management",
         "https://www.capterra.com/agile-project-management-tools-software/",
         "https://www.capterra.com/agile-project-management-tools-software/?deployment=CLOUD_SAAS_WEB_BASED"
        ],
        [
         "22",
         "AI Code Generator",
         "https://www.capterra.com/ai-code-generator-software/",
         "https://www.capterra.com/ai-code-generator-software/?deployment=CLOUD_SAAS_WEB_BASED"
        ],
        [
         "23",
         "AI Detection",
         "https://www.capterra.com/ai-detection-software/",
         "https://www.capterra.com/ai-detection-software/?deployment=CLOUD_SAAS_WEB_BASED"
        ],
        [
         "24",
         "AI Image Generator",
         "https://www.capterra.com/ai-image-generator-software/",
         "https://www.capterra.com/ai-image-generator-software/?deployment=CLOUD_SAAS_WEB_BASED"
        ],
        [
         "25",
         "AI Marketing Tools",
         "https://www.capterra.com/ai-marketing-tools-software/",
         "https://www.capterra.com/ai-marketing-tools-software/?deployment=CLOUD_SAAS_WEB_BASED"
        ],
        [
         "26",
         "AI Sales Assistant",
         "https://www.capterra.com/ai-sales-assistant-software/",
         "https://www.capterra.com/ai-sales-assistant-software/?deployment=CLOUD_SAAS_WEB_BASED"
        ],
        [
         "27",
         "AI Video Generator",
         "https://www.capterra.com/ai-video-generator-software/",
         "https://www.capterra.com/ai-video-generator-software/?deployment=CLOUD_SAAS_WEB_BASED"
        ],
        [
         "28",
         "AI Writing Assistant",
         "https://www.capterra.com/ai-writing-assistant-software/",
         "https://www.capterra.com/ai-writing-assistant-software/?deployment=CLOUD_SAAS_WEB_BASED"
        ],
        [
         "29",
         "AIOps Platforms",
         "https://www.capterra.com/aiops-platforms-software/",
         "https://www.capterra.com/aiops-platforms-software/?deployment=CLOUD_SAAS_WEB_BASED"
        ],
        [
         "30",
         "Airline Reservation System",
         "https://www.capterra.com/airline-reservation-system-software/",
         "https://www.capterra.com/airline-reservation-system-software/?deployment=CLOUD_SAAS_WEB_BASED"
        ],
        [
         "31",
         "All-in-One Marketing Platform",
         "https://www.capterra.com/all-in-one-marketing-software/",
         "https://www.capterra.com/all-in-one-marketing-software/?deployment=CLOUD_SAAS_WEB_BASED"
        ],
        [
         "32",
         "Alumni Management",
         "https://www.capterra.com/alumni-management-software/",
         "https://www.capterra.com/alumni-management-software/?deployment=CLOUD_SAAS_WEB_BASED"
        ],
        [
         "33",
         "AML",
         "https://www.capterra.com/aml-software/",
         "https://www.capterra.com/aml-software/?deployment=CLOUD_SAAS_WEB_BASED"
        ],
        [
         "34",
         "Android Kiosk",
         "https://www.capterra.com/android-kiosk-software/",
         "https://www.capterra.com/android-kiosk-software/?deployment=CLOUD_SAAS_WEB_BASED"
        ],
        [
         "35",
         "Animal Shelter",
         "https://www.capterra.com/animal-shelter-software/",
         "https://www.capterra.com/animal-shelter-software/?deployment=CLOUD_SAAS_WEB_BASED"
        ],
        [
         "36",
         "Animation",
         "https://www.capterra.com/animation-software/",
         "https://www.capterra.com/animation-software/?deployment=CLOUD_SAAS_WEB_BASED"
        ],
        [
         "37",
         "Anti-spam",
         "https://www.capterra.com/anti-spam-software/",
         "https://www.capterra.com/anti-spam-software/?deployment=CLOUD_SAAS_WEB_BASED"
        ],
        [
         "38",
         "AntiVirus",
         "https://www.capterra.com/anti-virus-software/",
         "https://www.capterra.com/anti-virus-software/?deployment=CLOUD_SAAS_WEB_BASED"
        ],
        [
         "39",
         "Apartment Management Systems",
         "https://www.capterra.com/apartment-management-software/",
         "https://www.capterra.com/apartment-management-software/?deployment=CLOUD_SAAS_WEB_BASED"
        ],
        [
         "40",
         "API Management",
         "https://www.capterra.com/api-management-software/",
         "https://www.capterra.com/api-management-software/?deployment=CLOUD_SAAS_WEB_BASED"
        ],
        [
         "41",
         "App Building",
         "https://www.capterra.com/app-building-software/",
         "https://www.capterra.com/app-building-software/?deployment=CLOUD_SAAS_WEB_BASED"
        ],
        [
         "42",
         "App Design",
         "https://www.capterra.com/app-design-software/",
         "https://www.capterra.com/app-design-software/?deployment=CLOUD_SAAS_WEB_BASED"
        ],
        [
         "43",
         "App Store Optimization Tools",
         "https://www.capterra.com/app-store-optimization-tools-software/",
         "https://www.capterra.com/app-store-optimization-tools-software/?deployment=CLOUD_SAAS_WEB_BASED"
        ],
        [
         "44",
         "Apparel Management",
         "https://www.capterra.com/apparel-management-software/",
         "https://www.capterra.com/apparel-management-software/?deployment=CLOUD_SAAS_WEB_BASED"
        ],
        [
         "45",
         "Applicant Tracking",
         "https://www.capterra.com/applicant-tracking-software/",
         "https://www.capterra.com/applicant-tracking-software/?deployment=CLOUD_SAAS_WEB_BASED"
        ],
        [
         "46",
         "Application Development",
         "https://www.capterra.com/application-development-software/",
         "https://www.capterra.com/application-development-software/?deployment=CLOUD_SAAS_WEB_BASED"
        ],
        [
         "47",
         "Application Lifecycle Management",
         "https://www.capterra.com/application-lifecycle-management-software/",
         "https://www.capterra.com/application-lifecycle-management-software/?deployment=CLOUD_SAAS_WEB_BASED"
        ],
        [
         "48",
         "Application Performance Management",
         "https://www.capterra.com/application-performance-management-software/",
         "https://www.capterra.com/application-performance-management-software/?deployment=CLOUD_SAAS_WEB_BASED"
        ],
        [
         "49",
         "Applied Behavior Analysis",
         "https://www.capterra.com/applied-behavior-analysis-software/",
         "https://www.capterra.com/applied-behavior-analysis-software/?deployment=CLOUD_SAAS_WEB_BASED"
        ]
       ],
       "shape": {
        "columns": 3,
        "rows": 999
       }
      },
      "text/html": [
       "<div>\n",
       "<style scoped>\n",
       "    .dataframe tbody tr th:only-of-type {\n",
       "        vertical-align: middle;\n",
       "    }\n",
       "\n",
       "    .dataframe tbody tr th {\n",
       "        vertical-align: top;\n",
       "    }\n",
       "\n",
       "    .dataframe thead th {\n",
       "        text-align: right;\n",
       "    }\n",
       "</style>\n",
       "<table border=\"1\" class=\"dataframe\">\n",
       "  <thead>\n",
       "    <tr style=\"text-align: right;\">\n",
       "      <th></th>\n",
       "      <th>category_name</th>\n",
       "      <th>category_link</th>\n",
       "      <th>cloud_link</th>\n",
       "    </tr>\n",
       "  </thead>\n",
       "  <tbody>\n",
       "    <tr>\n",
       "      <th>0</th>\n",
       "      <td>360 Degree Feedback</td>\n",
       "      <td>https://www.capterra.com/360-degree-feedback-s...</td>\n",
       "      <td>https://www.capterra.com/360-degree-feedback-s...</td>\n",
       "    </tr>\n",
       "    <tr>\n",
       "      <th>1</th>\n",
       "      <td>3D Architecture</td>\n",
       "      <td>https://www.capterra.com/3d-architecture-softw...</td>\n",
       "      <td>https://www.capterra.com/3d-architecture-softw...</td>\n",
       "    </tr>\n",
       "    <tr>\n",
       "      <th>2</th>\n",
       "      <td>3D CAD</td>\n",
       "      <td>https://www.capterra.com/3d-cad-software/</td>\n",
       "      <td>https://www.capterra.com/3d-cad-software/?depl...</td>\n",
       "    </tr>\n",
       "    <tr>\n",
       "      <th>3</th>\n",
       "      <td>3D Rendering</td>\n",
       "      <td>https://www.capterra.com/3d-rendering-software/</td>\n",
       "      <td>https://www.capterra.com/3d-rendering-software...</td>\n",
       "    </tr>\n",
       "    <tr>\n",
       "      <th>4</th>\n",
       "      <td>AB Testing</td>\n",
       "      <td>https://www.capterra.com/ab-testing-software/</td>\n",
       "      <td>https://www.capterra.com/ab-testing-software/?...</td>\n",
       "    </tr>\n",
       "    <tr>\n",
       "      <th>...</th>\n",
       "      <td>...</td>\n",
       "      <td>...</td>\n",
       "      <td>...</td>\n",
       "    </tr>\n",
       "    <tr>\n",
       "      <th>994</th>\n",
       "      <td>Worship</td>\n",
       "      <td>https://www.capterra.com/worship-software/</td>\n",
       "      <td>https://www.capterra.com/worship-software/?dep...</td>\n",
       "    </tr>\n",
       "    <tr>\n",
       "      <th>995</th>\n",
       "      <td>XDR (Extended Detection &amp; Response)</td>\n",
       "      <td>https://www.capterra.com/xdr-software/</td>\n",
       "      <td>https://www.capterra.com/xdr-software/?deploym...</td>\n",
       "    </tr>\n",
       "    <tr>\n",
       "      <th>996</th>\n",
       "      <td>Yard Management</td>\n",
       "      <td>https://www.capterra.com/yard-management-softw...</td>\n",
       "      <td>https://www.capterra.com/yard-management-softw...</td>\n",
       "    </tr>\n",
       "    <tr>\n",
       "      <th>997</th>\n",
       "      <td>Yoga Studio</td>\n",
       "      <td>https://www.capterra.com/yoga-studio-software/</td>\n",
       "      <td>https://www.capterra.com/yoga-studio-software/...</td>\n",
       "    </tr>\n",
       "    <tr>\n",
       "      <th>998</th>\n",
       "      <td>Zoo</td>\n",
       "      <td>https://www.capterra.com/zoo-software/</td>\n",
       "      <td>https://www.capterra.com/zoo-software/?deploym...</td>\n",
       "    </tr>\n",
       "  </tbody>\n",
       "</table>\n",
       "<p>999 rows × 3 columns</p>\n",
       "</div>"
      ],
      "text/plain": [
       "                           category_name  \\\n",
       "0                    360 Degree Feedback   \n",
       "1                        3D Architecture   \n",
       "2                                 3D CAD   \n",
       "3                           3D Rendering   \n",
       "4                             AB Testing   \n",
       "..                                   ...   \n",
       "994                              Worship   \n",
       "995  XDR (Extended Detection & Response)   \n",
       "996                      Yard Management   \n",
       "997                          Yoga Studio   \n",
       "998                                  Zoo   \n",
       "\n",
       "                                         category_link  \\\n",
       "0    https://www.capterra.com/360-degree-feedback-s...   \n",
       "1    https://www.capterra.com/3d-architecture-softw...   \n",
       "2            https://www.capterra.com/3d-cad-software/   \n",
       "3      https://www.capterra.com/3d-rendering-software/   \n",
       "4        https://www.capterra.com/ab-testing-software/   \n",
       "..                                                 ...   \n",
       "994         https://www.capterra.com/worship-software/   \n",
       "995             https://www.capterra.com/xdr-software/   \n",
       "996  https://www.capterra.com/yard-management-softw...   \n",
       "997     https://www.capterra.com/yoga-studio-software/   \n",
       "998             https://www.capterra.com/zoo-software/   \n",
       "\n",
       "                                            cloud_link  \n",
       "0    https://www.capterra.com/360-degree-feedback-s...  \n",
       "1    https://www.capterra.com/3d-architecture-softw...  \n",
       "2    https://www.capterra.com/3d-cad-software/?depl...  \n",
       "3    https://www.capterra.com/3d-rendering-software...  \n",
       "4    https://www.capterra.com/ab-testing-software/?...  \n",
       "..                                                 ...  \n",
       "994  https://www.capterra.com/worship-software/?dep...  \n",
       "995  https://www.capterra.com/xdr-software/?deploym...  \n",
       "996  https://www.capterra.com/yard-management-softw...  \n",
       "997  https://www.capterra.com/yoga-studio-software/...  \n",
       "998  https://www.capterra.com/zoo-software/?deploym...  \n",
       "\n",
       "[999 rows x 3 columns]"
      ]
     },
     "execution_count": 37,
     "metadata": {},
     "output_type": "execute_result"
    }
   ],
   "source": [
    "all_categories_df"
   ]
  },
  {
   "cell_type": "code",
   "execution_count": 40,
   "id": "ce0b64c9",
   "metadata": {},
   "outputs": [],
   "source": [
    "row = all_categories_df.iloc[0]\n",
    "link = row['cloud_link']\n",
    "sb.cdp.open(link)\n",
    "\n",
    "sb.sleep(5)\n",
    "\n",
    "html = sb.get_page_source()\n",
    "soup = BeautifulSoup(html, 'html.parser')"
   ]
  },
  {
   "cell_type": "code",
   "execution_count": null,
   "id": "e83615f7",
   "metadata": {},
   "outputs": [
    {
     "name": "stdout",
     "output_type": "stream",
     "text": [
      "Raw page text: 'Page1of15'\n",
      "Last page number: 15\n",
      "\n",
      "Last page number: 15\n"
     ]
    }
   ],
   "source": [
    "page_raw = soup.select_one('div[data-test-id = \"current-page-display\"]').get_text(strip=True)\n",
    "if page_raw:\n",
    "    # print(f\"Raw page text: '{page_raw}'\")  # Debug print to see exact format\n",
    "    # Extract numbers from text like \"Page1of15\" (no spaces)\n",
    "    match = re.search(r'of(\\d+)', page_raw, re.IGNORECASE)\n",
    "    if match:\n",
    "        last_page = int(match.group(1))\n",
    "        print(f\"Last page number: {last_page}\")\n",
    "    else:\n",
    "        # Try alternative patterns in case format varies\n",
    "        match = re.search(r'(\\d+)$', page_raw)  # Get the last number in the string\n",
    "        if match:\n",
    "            last_page = int(match.group(1))\n",
    "            print(f\"Last page number (alternative): {last_page}\")\n",
    "        else:\n",
    "            print(f\"Could not parse page info from: {page_raw}\")\n",
    "else:\n",
    "    print(\"No page display element found\")"
   ]
  },
  {
   "cell_type": "code",
   "execution_count": 45,
   "id": "8d77f74e",
   "metadata": {},
   "outputs": [],
   "source": [
    "match"
   ]
  },
  {
   "cell_type": "code",
   "execution_count": null,
   "metadata": {},
   "outputs": [],
   "source": []
  },
  {
   "cell_type": "code",
   "execution_count": null,
   "metadata": {},
   "outputs": [],
   "source": []
  }
 ],
 "metadata": {
  "kernelspec": {
   "display_name": "base",
   "language": "python",
   "name": "python3"
  },
  "language_info": {
   "codemirror_mode": {
    "name": "ipython",
    "version": 3
   },
   "file_extension": ".py",
   "mimetype": "text/x-python",
   "name": "python",
   "nbconvert_exporter": "python",
   "pygments_lexer": "ipython3",
   "version": "3.11.7"
  }
 },
 "nbformat": 4,
 "nbformat_minor": 5
}
